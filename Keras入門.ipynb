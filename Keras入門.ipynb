{
  "nbformat": 4,
  "nbformat_minor": 0,
  "metadata": {
    "colab": {
      "name": "Keras入門.ipynb",
      "version": "0.3.2",
      "provenance": [],
      "collapsed_sections": [],
      "include_colab_link": true
    },
    "kernelspec": {
      "name": "python3",
      "display_name": "Python 3"
    },
    "accelerator": "GPU"
  },
  "cells": [
    {
      "cell_type": "markdown",
      "metadata": {
        "id": "view-in-github",
        "colab_type": "text"
      },
      "source": [
        "<a href=\"https://colab.research.google.com/github/okakyo/Attendance_Check/blob/master/Keras%E5%85%A5%E9%96%80.ipynb\" target=\"_parent\"><img src=\"https://colab.research.google.com/assets/colab-badge.svg\" alt=\"Open In Colab\"/></a>"
      ]
    },
    {
      "metadata": {
        "id": "-H359m9Vi_pN",
        "colab_type": "code",
        "colab": {}
      },
      "cell_type": "code",
      "source": [
        "第1章: 準備運動\n",
        "00. 文字列の逆順\n",
        "文字列\"stressed\"の文字を逆に（末尾から先頭に向かって）並べた文字列を得よ．\n",
        "\n",
        "01. 「パタトクカシーー」\n",
        "「パタトクカシーー」という文字列の1,3,5,7文字目を取り出して連結した文字列を得よ．\n",
        "\n",
        "02. 「パトカー」＋「タクシー」＝「パタトクカシーー」\n",
        "「パトカー」＋「タクシー」の文字を先頭から交互に連結して文字列「パタトクカシーー」を得よ．\n",
        "\n",
        "03. 円周率\n",
        "\"Now I need a drink, alcoholic of course, after the heavy lectures involving quantum mechanics.\"という文を単語に分解し，各単語の（アルファベットの）文字数を先頭から出現順に並べたリストを作成せよ．\n",
        "\n",
        "04. 元素記号\n",
        "\"Hi He Lied Because Boron Could Not Oxidize Fluorine. New Nations Might Also Sign Peace Security Clause. Arthur King Can.\"という文を単語に分解し，1, 5, 6, 7, 8, 9, 15, 16, 19番目の単語は先頭の1文字，それ以外の単語は先頭に2文字を取り出し，取り出した文字列から単語の位置（先頭から何番目の単語か）への連想配列（辞書型もしくはマップ型）を作成せよ．\n",
        "\n",
        "05. n-gram\n",
        "与えられたシーケンス（文字列やリストなど）からn-gramを作る関数を作成せよ．この関数を用い，\"I am an NLPer\"という文から単語bi-gram，文字bi-gramを得よ．\n",
        "\n",
        "06. 集合\n",
        "\"paraparaparadise\"と\"paragraph\"に含まれる文字bi-gramの集合を，それぞれ, XとYとして求め，XとYの和集合，積集合，差集合を求めよ．さらに，'se'というbi-gramがXおよびYに含まれるかどうかを調べよ．\n",
        "\n",
        "07. テンプレートによる文生成\n",
        "引数x, y, zを受け取り「x時のyはz」という文字列を返す関数を実装せよ．さらに，x=12, y=\"気温\", z=22.4として，実行結果を確認せよ．\n",
        "\n",
        "08. 暗号文\n",
        "与えられた文字列の各文字を，以下の仕様で変換する関数cipherを実装せよ．\n",
        "\n",
        "英小文字ならば(219 - 文字コード)の文字に置換\n",
        "その他の文字はそのまま出力\n",
        "この関数を用い，英語のメッセージを暗号化・復号化せよ．\n",
        "\n",
        "09. Typoglycemia\n",
        "スペースで区切られた単語列に対して，各単語の先頭と末尾の文字は残し，それ以外の文字の順序をランダムに並び替えるプログラムを作成せよ．ただし，長さが４以下の単語は並び替えないこととする．適当な英語の文（例えば\"I couldn't believe that I could actually understand what I was reading : the phenomenal power of the human mind .\"）を与え，その実行結果を確認せよ．"
      ],
      "execution_count": 0,
      "outputs": []
    },
    {
      "metadata": {
        "id": "GusDLdD58H_k",
        "colab_type": "text"
      },
      "cell_type": "markdown",
      "source": [
        "# 言語処理100本ノック入門\n",
        "\n",
        "## このノートでは：\n",
        " - 機械学習を１から総復習するため、100本ノックを利用して問題を解いていくことである\n",
        " - 自然言語処理を学習し、アプリに実装するための学習を進めることにある。\n",
        " "
      ]
    },
    {
      "metadata": {
        "colab_type": "text",
        "id": "nkR8O8wF9eow"
      },
      "cell_type": "markdown",
      "source": [
        "# 第1章: 準備運動\n",
        "## 00. 文字列の逆順\n",
        "文字列\"stressed\"の文字を逆に（末尾から先頭に向かって）並べた文字列を得よ．\n",
        "\n",
        "## 01. 「パタトクカシーー」\n",
        "「パタトクカシーー」という文字列の1,3,5,7文字目を取り出して連結した文字列を得よ．\n",
        "\n",
        "## 02. 「パトカー」＋「タクシー」＝「パタトクカシーー」\n",
        "「パトカー」＋「タクシー」の文字を先頭から交互に連結して文字列「パタトクカシーー」を得よ．\n",
        "\n",
        "## 03. 円周率\n",
        "\"Now I need a drink, alcoholic of course, after the heavy lectures involving quantum mechanics.\"という文を単語に分解し，各単語の（アルファベットの）文字数を先頭から出現順に並べたリストを作成せよ．\n",
        "\n"
      ]
    },
    {
      "metadata": {
        "id": "jxDTr-Vx-AlR",
        "colab_type": "code",
        "outputId": "5699a54b-fbaa-4112-ff29-afb10f6fc940",
        "colab": {
          "base_uri": "https://localhost:8080/",
          "height": 87
        }
      },
      "cell_type": "code",
      "source": [
        "# 00\n",
        "print(\"stressed\"[::-1])\n",
        "\n",
        "# 01\n",
        "print(\"パタトクカシーー\"[::2])\n",
        "# 02\n",
        "ans=\"\"\n",
        "X=[x for x in \"パトカー\"]\n",
        "Y=[x for x in \"タクシー\"]\n",
        "for x,y in zip(X,Y):\n",
        "  ans+=(x+y)\n",
        "print(ans)\n",
        "\n",
        "print([len(i) for i in \"Now I need a drink, alcoholic of course, after the heavy lectures involving quantum mechanics.\".replace(',','').replace('.','').split(' ')])"
      ],
      "execution_count": 0,
      "outputs": [
        {
          "output_type": "stream",
          "text": [
            "desserts\n",
            "パトカー\n",
            "パタトクカシーー\n",
            "[3, 1, 4, 1, 5, 9, 2, 6, 5, 3, 5, 8, 9, 7, 9]\n"
          ],
          "name": "stdout"
        }
      ]
    },
    {
      "metadata": {
        "id": "AyEBqBFw9217",
        "colab_type": "text"
      },
      "cell_type": "markdown",
      "source": [
        "## 04. 元素記号\n",
        "\"Hi He Lied Because Boron Could Not Oxidize Fluorine. New Nations Might Also Sign Peace Security Clause. Arthur King Can.\"という文を単語に分解し，1, 5, 6, 7, 8, 9, 15, 16, 19番目の単語は先頭の1文字，それ以外の単語は先頭に2文字を取り出し，取り出した文字列から単語の位置（先頭から何番目の単語か）への連想配列（辞書型もしくはマップ型）を作成せよ．\n",
        "\n",
        "## 05. n-gram\n",
        "与えられたシーケンス（文字列やリストなど）からn-gramを作る関数を作成せよ．この関数を用い，\"I am an NLPer\"という文から単語bi-gram，文字bi-gramを得よ．\n",
        "\n",
        "## 06. 集合\n",
        "\"paraparaparadise\"と\"paragraph\"に含まれる文字bi-gramの集合を，それぞれ, XとYとして求め，XとYの和集合，積集合，差集合を求めよ．さらに，'se'というbi-gramがXおよびYに含まれるかどうかを調べよ．\n",
        "\n",
        "\n"
      ]
    },
    {
      "metadata": {
        "id": "VYnL7XvCAgPm",
        "colab_type": "code",
        "outputId": "913f1209-d288-4ada-d9e8-053f8ce9d76b",
        "colab": {
          "base_uri": "https://localhost:8080/",
          "height": 158
        }
      },
      "cell_type": "code",
      "source": [
        "#04\n",
        "ans={}\n",
        "for i,j in enumerate(\"Hi He Lied Because Boron Could Not Oxidize Fluorine. New Nations Might Also Sign Peace Security Clause. Arthur King Can.\".replace('.','').split(' ')):\n",
        "  ans[i+1]=j[0] if (i==0 or i==4 or i==5 or i==6 or i==7 or i==8  or i==15 or i==14 or i==18) else j[:2]\n",
        "print(ans)\n",
        "\n",
        "# 05(よくわかってない）\n",
        "def nGram(target,n):\n",
        "  result=[]\n",
        "  for i in range(len(target)-n+1):\n",
        "    result.append(target[i:i+n])    \n",
        "  \n",
        "  return result\n",
        "\n",
        "print('文字：',nGram(\"I am an NLPer\",2))\n",
        "print('単語：',nGram( 'I am an NLPer'.split(' '),2))\n",
        "\n",
        "\n",
        "#06\n",
        "\n",
        "X=set(nGram(\"paraparaparadise\",2))\n",
        "Y=set(nGram(\"paragraph\",2))\n",
        "\n",
        "print(X&Y)  # 和集合\n",
        "print(X|Y) # 積集合\n",
        "print(X-Y)  # 差集合\n",
        "print('se' in X)\n",
        "print('se' in Y)\n",
        "\n"
      ],
      "execution_count": 26,
      "outputs": [
        {
          "output_type": "stream",
          "text": [
            "{1: 'H', 2: 'He', 3: 'Li', 4: 'Be', 5: 'B', 6: 'C', 7: 'N', 8: 'O', 9: 'F', 10: 'Ne', 11: 'Na', 12: 'Mi', 13: 'Al', 14: 'Si', 15: 'P', 16: 'S', 17: 'Cl', 18: 'Ar', 19: 'K', 20: 'Ca'}\n",
            "文字： ['I ', ' a', 'am', 'm ', ' a', 'an', 'n ', ' N', 'NL', 'LP', 'Pe', 'er']\n",
            "単語： [['I', 'am'], ['am', 'an'], ['an', 'NLPer']]\n",
            "{'ra', 'ar', 'ap', 'pa'}\n",
            "{'ra', 'ap', 'ph', 'di', 'ar', 'pa', 'gr', 'is', 'se', 'ad', 'ag'}\n",
            "{'is', 'se', 'ad', 'di'}\n",
            "True\n",
            "False\n"
          ],
          "name": "stdout"
        }
      ]
    },
    {
      "metadata": {
        "id": "rYZyAP5m98xR",
        "colab_type": "text"
      },
      "cell_type": "markdown",
      "source": [
        "## 07. テンプレートによる文生成\n",
        "引数x, y, zを受け取り「x時のyはz」という文字列を返す関数を実装せよ．さらに，x=12, y=\"気温\", z=22.4として，実行結果を確認せよ．\n",
        "\n",
        "## 08. 暗号文\n",
        "与えられた文字列の各文字を，以下の仕様で変換する関数cipherを実装せよ．\n",
        "\n",
        "英小文字ならば(219 - 文字コード)の文字に置換\n",
        "その他の文字はそのまま出力\n",
        "この関数を用い，英語のメッセージを暗号化・復号化せよ．\n",
        "\n",
        "## 09. Typoglycemia\n",
        "スペースで区切られた単語列に対して，各単語の先頭と末尾の文字は残し，それ以外の文字の順序をランダムに並び替えるプログラムを作成せよ．ただし，長さが４以下の単語は並び替えないこととする．適当な英語の文（例えば\"I couldn't believe that I could actually understand what I was reading : the phenomenal power of the human mind .\"）を与え，その実行結果を確認せよ．"
      ]
    },
    {
      "metadata": {
        "id": "Inm37_tF9vPw",
        "colab_type": "code",
        "colab": {}
      },
      "cell_type": "code",
      "source": [
        "#07 \n",
        "def ansFormat(x,y,z):\n",
        "  return \"{}時の{}は{}\".format(x,y,z)\n",
        "print(ansFormat(12,'気温',22.4))\n"
      ],
      "execution_count": 0,
      "outputs": []
    },
    {
      "metadata": {
        "id": "37UxaIY9ONMv",
        "colab_type": "code",
        "colab": {}
      },
      "cell_type": "code",
      "source": [
        "#08\n",
        "def cipher(sen):\n",
        "  ans=\"\"\n",
        "  sen=[chr(219-ord(i)) for i in sen]\n",
        "  for x in sen:\n",
        "    ans+=x\n",
        "  return ans\n",
        "\n",
        "word=cipher(\"Hello\")\n",
        "print(word)\n",
        "print(cipher(word))"
      ],
      "execution_count": 0,
      "outputs": []
    }
  ]
}